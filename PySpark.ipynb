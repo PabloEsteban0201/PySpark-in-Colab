{
  "nbformat": 4,
  "nbformat_minor": 0,
  "metadata": {
    "colab": {
      "provenance": [],
      "toc_visible": true,
      "authorship_tag": "ABX9TyPmcToCOhpToUONuXGTkLnd",
      "include_colab_link": true
    },
    "kernelspec": {
      "name": "python3",
      "display_name": "Python 3"
    },
    "language_info": {
      "name": "python"
    }
  },
  "cells": [
    {
      "cell_type": "markdown",
      "metadata": {
        "id": "view-in-github",
        "colab_type": "text"
      },
      "source": [
        "<a href=\"https://colab.research.google.com/github/PabloEsteban0201/PySpark-in-Colab/blob/main/PySpark.ipynb\" target=\"_parent\"><img src=\"https://colab.research.google.com/assets/colab-badge.svg\" alt=\"Open In Colab\"/></a>"
      ]
    },
    {
      "cell_type": "markdown",
      "source": [
        "# Instalación de Spark"
      ],
      "metadata": {
        "id": "XOrCtxj5YPhV"
      }
    },
    {
      "cell_type": "markdown",
      "source": [
        "## Método sencillo"
      ],
      "metadata": {
        "id": "X7GXl8bvYXXO"
      }
    },
    {
      "cell_type": "code",
      "source": [
        "# Install pyspark\n",
        "!pip install pyspark"
      ],
      "metadata": {
        "colab": {
          "base_uri": "https://localhost:8080/"
        },
        "id": "I_HPOaPVYdwU",
        "outputId": "cddf9b16-e5cd-4aaf-f9f0-4e0f59ef39ca"
      },
      "execution_count": 2,
      "outputs": [
        {
          "output_type": "stream",
          "name": "stdout",
          "text": [
            "Looking in indexes: https://pypi.org/simple, https://us-python.pkg.dev/colab-wheels/public/simple/\n",
            "Collecting pyspark\n",
            "  Downloading pyspark-3.4.0.tar.gz (310.8 MB)\n",
            "\u001b[2K     \u001b[90m━━━━━━━━━━━━━━━━━━━━━━━━━━━━━━━━━━━━━━━\u001b[0m \u001b[32m310.8/310.8 MB\u001b[0m \u001b[31m3.8 MB/s\u001b[0m eta \u001b[36m0:00:00\u001b[0m\n",
            "\u001b[?25h  Preparing metadata (setup.py) ... \u001b[?25l\u001b[?25hdone\n",
            "Requirement already satisfied: py4j==0.10.9.7 in /usr/local/lib/python3.10/dist-packages (from pyspark) (0.10.9.7)\n",
            "Building wheels for collected packages: pyspark\n",
            "  Building wheel for pyspark (setup.py) ... \u001b[?25l\u001b[?25hdone\n",
            "  Created wheel for pyspark: filename=pyspark-3.4.0-py2.py3-none-any.whl size=311317145 sha256=cac3edfc5e9aabdc247678e5e0fd38af3f5e9c33b0447b1134a454721e6af429\n",
            "  Stored in directory: /root/.cache/pip/wheels/7b/1b/4b/3363a1d04368e7ff0d408e57ff57966fcdf00583774e761327\n",
            "Successfully built pyspark\n",
            "Installing collected packages: pyspark\n",
            "Successfully installed pyspark-3.4.0\n"
          ]
        }
      ]
    },
    {
      "cell_type": "markdown",
      "source": [
        "## Iniciar sesión\n"
      ],
      "metadata": {
        "id": "-lTCBmfr8Sw4"
      }
    },
    {
      "cell_type": "code",
      "source": [
        "# Import SparkSession\n",
        "from pyspark.sql import SparkSession\n",
        "from pyspark import SparkContext\n",
        "# Create a Spark Session\n",
        "spark = SparkSession.builder.master(\"local[*]\").getOrCreate()\n",
        "#Create context\n",
        "sc = SparkContext.getOrCreate()\n",
        "# Check Spark Session Information\n",
        "spark"
      ],
      "metadata": {
        "colab": {
          "base_uri": "https://localhost:8080/",
          "height": 219
        },
        "id": "cfHgnA4I8W5C",
        "outputId": "7d280f1e-f17f-4757-80d2-1ac4cff0d200"
      },
      "execution_count": 4,
      "outputs": [
        {
          "output_type": "execute_result",
          "data": {
            "text/plain": [
              "<pyspark.sql.session.SparkSession at 0x7f08b15aecb0>"
            ],
            "text/html": [
              "\n",
              "            <div>\n",
              "                <p><b>SparkSession - in-memory</b></p>\n",
              "                \n",
              "        <div>\n",
              "            <p><b>SparkContext</b></p>\n",
              "\n",
              "            <p><a href=\"http://48b6418d5a40:4040\">Spark UI</a></p>\n",
              "\n",
              "            <dl>\n",
              "              <dt>Version</dt>\n",
              "                <dd><code>v3.4.0</code></dd>\n",
              "              <dt>Master</dt>\n",
              "                <dd><code>local[*]</code></dd>\n",
              "              <dt>AppName</dt>\n",
              "                <dd><code>pyspark-shell</code></dd>\n",
              "            </dl>\n",
              "        </div>\n",
              "        \n",
              "            </div>\n",
              "        "
            ]
          },
          "metadata": {},
          "execution_count": 4
        }
      ]
    },
    {
      "cell_type": "code",
      "source": [
        "# Import a Spark function from library\n",
        "from pyspark.sql.functions import col"
      ],
      "metadata": {
        "id": "z53g7dqW9uAP"
      },
      "execution_count": 5,
      "outputs": []
    },
    {
      "cell_type": "markdown",
      "source": [
        "# Ejercicio con PySpark\n"
      ],
      "metadata": {
        "id": "27mMffkJBlG9"
      }
    },
    {
      "cell_type": "markdown",
      "source": [
        "## Cargar dataset"
      ],
      "metadata": {
        "id": "ZZlQdsdUBpdr"
      }
    },
    {
      "cell_type": "code",
      "source": [
        "# Load data from csv to a dataframe. \n",
        "# header=True means the first row is a header \n",
        "# sep=';' means the column are seperated using ''\n",
        "df = spark.read.csv('crashes.csv', header=True, sep=\",\")\n",
        "df.show(5)"
      ],
      "metadata": {
        "colab": {
          "base_uri": "https://localhost:8080/"
        },
        "id": "5E_7YMDeBor3",
        "outputId": "d34a6fb8-7dfc-4b38-a143-90ade560eaee"
      },
      "execution_count": 23,
      "outputs": [
        {
          "output_type": "stream",
          "name": "stdout",
          "text": [
            "+----------+----------+--------+--------+---------+----------+--------------------+--------------------+-----------------+--------------------+-------------------------+------------------------+-----------------------------+----------------------------+-------------------------+------------------------+--------------------------+-------------------------+-----------------------------+-----------------------------+-----------------------------+-----------------------------+-----------------------------+------------+-------------------+-------------------+-------------------+-------------------+-------------------+\n",
            "|CRASH DATE|CRASH TIME| BOROUGH|ZIP CODE| LATITUDE| LONGITUDE|            LOCATION|      ON STREET NAME|CROSS STREET NAME|     OFF STREET NAME|NUMBER OF PERSONS INJURED|NUMBER OF PERSONS KILLED|NUMBER OF PEDESTRIANS INJURED|NUMBER OF PEDESTRIANS KILLED|NUMBER OF CYCLIST INJURED|NUMBER OF CYCLIST KILLED|NUMBER OF MOTORIST INJURED|NUMBER OF MOTORIST KILLED|CONTRIBUTING FACTOR VEHICLE 1|CONTRIBUTING FACTOR VEHICLE 2|CONTRIBUTING FACTOR VEHICLE 3|CONTRIBUTING FACTOR VEHICLE 4|CONTRIBUTING FACTOR VEHICLE 5|COLLISION_ID|VEHICLE TYPE CODE 1|VEHICLE TYPE CODE 2|VEHICLE TYPE CODE 3|VEHICLE TYPE CODE 4|VEHICLE TYPE CODE 5|\n",
            "+----------+----------+--------+--------+---------+----------+--------------------+--------------------+-----------------+--------------------+-------------------------+------------------------+-----------------------------+----------------------------+-------------------------+------------------------+--------------------------+-------------------------+-----------------------------+-----------------------------+-----------------------------+-----------------------------+-----------------------------+------------+-------------------+-------------------+-------------------+-------------------+-------------------+\n",
            "|09/11/2021|      2:39|    null|    null|     null|      null|                null|WHITESTONE EXPRES...|        20 AVENUE|                null|                        2|                       0|                            0|                           0|                        0|                       0|                         2|                        0|         Aggressive Drivin...|                  Unspecified|                         null|                         null|                         null|     4455765|              Sedan|              Sedan|               null|               null|               null|\n",
            "|03/26/2022|     11:45|    null|    null|     null|      null|                null|QUEENSBORO BRIDGE...|             null|                null|                        1|                       0|                            0|                           0|                        0|                       0|                         1|                        0|            Pavement Slippery|                         null|                         null|                         null|                         null|     4513547|              Sedan|               null|               null|               null|               null|\n",
            "|06/29/2022|      6:55|    null|    null|     null|      null|                null|  THROGS NECK BRIDGE|             null|                null|                        0|                       0|                            0|                           0|                        0|                       0|                         0|                        0|         Following Too Clo...|                  Unspecified|                         null|                         null|                         null|     4541903|              Sedan|      Pick-up Truck|               null|               null|               null|\n",
            "|09/11/2021|      9:35|BROOKLYN|   11208|40.667202|  -73.8665|(40.667202, -73.8...|                null|             null|1211      LORING ...|                        0|                       0|                            0|                           0|                        0|                       0|                         0|                        0|                  Unspecified|                         null|                         null|                         null|                         null|     4456314|              Sedan|               null|               null|               null|               null|\n",
            "|12/14/2021|      8:13|BROOKLYN|   11233|40.683304|-73.917274|(40.683304, -73.9...|     SARATOGA AVENUE|   DECATUR STREET|                null|                        0|                       0|                            0|                           0|                        0|                       0|                         0|                        0|                         null|                         null|                         null|                         null|                         null|     4486609|               null|               null|               null|               null|               null|\n",
            "+----------+----------+--------+--------+---------+----------+--------------------+--------------------+-----------------+--------------------+-------------------------+------------------------+-----------------------------+----------------------------+-------------------------+------------------------+--------------------------+-------------------------+-----------------------------+-----------------------------+-----------------------------+-----------------------------+-----------------------------+------------+-------------------+-------------------+-------------------+-------------------+-------------------+\n",
            "only showing top 5 rows\n",
            "\n"
          ]
        }
      ]
    },
    {
      "cell_type": "markdown",
      "source": [
        "Mostrar los 5 primeros registros"
      ],
      "metadata": {
        "id": "ztq39UJtNWGn"
      }
    },
    {
      "cell_type": "code",
      "source": [
        "df.show(5, truncate=False)"
      ],
      "metadata": {
        "colab": {
          "base_uri": "https://localhost:8080/"
        },
        "id": "lt5lit5YNVmz",
        "outputId": "eb44eeab-6d28-40f0-9fe6-7f3b61cfd0ce"
      },
      "execution_count": 24,
      "outputs": [
        {
          "output_type": "stream",
          "name": "stdout",
          "text": [
            "+----------+----------+--------+--------+---------+----------+-----------------------+-----------------------+-----------------+-----------------------+-------------------------+------------------------+-----------------------------+----------------------------+-------------------------+------------------------+--------------------------+-------------------------+-----------------------------+-----------------------------+-----------------------------+-----------------------------+-----------------------------+------------+-------------------+-------------------+-------------------+-------------------+-------------------+\n",
            "|CRASH DATE|CRASH TIME|BOROUGH |ZIP CODE|LATITUDE |LONGITUDE |LOCATION               |ON STREET NAME         |CROSS STREET NAME|OFF STREET NAME        |NUMBER OF PERSONS INJURED|NUMBER OF PERSONS KILLED|NUMBER OF PEDESTRIANS INJURED|NUMBER OF PEDESTRIANS KILLED|NUMBER OF CYCLIST INJURED|NUMBER OF CYCLIST KILLED|NUMBER OF MOTORIST INJURED|NUMBER OF MOTORIST KILLED|CONTRIBUTING FACTOR VEHICLE 1|CONTRIBUTING FACTOR VEHICLE 2|CONTRIBUTING FACTOR VEHICLE 3|CONTRIBUTING FACTOR VEHICLE 4|CONTRIBUTING FACTOR VEHICLE 5|COLLISION_ID|VEHICLE TYPE CODE 1|VEHICLE TYPE CODE 2|VEHICLE TYPE CODE 3|VEHICLE TYPE CODE 4|VEHICLE TYPE CODE 5|\n",
            "+----------+----------+--------+--------+---------+----------+-----------------------+-----------------------+-----------------+-----------------------+-------------------------+------------------------+-----------------------------+----------------------------+-------------------------+------------------------+--------------------------+-------------------------+-----------------------------+-----------------------------+-----------------------------+-----------------------------+-----------------------------+------------+-------------------+-------------------+-------------------+-------------------+-------------------+\n",
            "|09/11/2021|2:39      |null    |null    |null     |null      |null                   |WHITESTONE EXPRESSWAY  |20 AVENUE        |null                   |2                        |0                       |0                            |0                           |0                        |0                       |2                         |0                        |Aggressive Driving/Road Rage |Unspecified                  |null                         |null                         |null                         |4455765     |Sedan              |Sedan              |null               |null               |null               |\n",
            "|03/26/2022|11:45     |null    |null    |null     |null      |null                   |QUEENSBORO BRIDGE UPPER|null             |null                   |1                        |0                       |0                            |0                           |0                        |0                       |1                         |0                        |Pavement Slippery            |null                         |null                         |null                         |null                         |4513547     |Sedan              |null               |null               |null               |null               |\n",
            "|06/29/2022|6:55      |null    |null    |null     |null      |null                   |THROGS NECK BRIDGE     |null             |null                   |0                        |0                       |0                            |0                           |0                        |0                       |0                         |0                        |Following Too Closely        |Unspecified                  |null                         |null                         |null                         |4541903     |Sedan              |Pick-up Truck      |null               |null               |null               |\n",
            "|09/11/2021|9:35      |BROOKLYN|11208   |40.667202|-73.8665  |(40.667202, -73.8665)  |null                   |null             |1211      LORING AVENUE|0                        |0                       |0                            |0                           |0                        |0                       |0                         |0                        |Unspecified                  |null                         |null                         |null                         |null                         |4456314     |Sedan              |null               |null               |null               |null               |\n",
            "|12/14/2021|8:13      |BROOKLYN|11233   |40.683304|-73.917274|(40.683304, -73.917274)|SARATOGA AVENUE        |DECATUR STREET   |null                   |0                        |0                       |0                            |0                           |0                        |0                       |0                         |0                        |null                         |null                         |null                         |null                         |null                         |4486609     |null               |null               |null               |null               |null               |\n",
            "+----------+----------+--------+--------+---------+----------+-----------------------+-----------------------+-----------------+-----------------------+-------------------------+------------------------+-----------------------------+----------------------------+-------------------------+------------------------+--------------------------+-------------------------+-----------------------------+-----------------------------+-----------------------------+-----------------------------+-----------------------------+------------+-------------------+-------------------+-------------------+-------------------+-------------------+\n",
            "only showing top 5 rows\n",
            "\n"
          ]
        }
      ]
    },
    {
      "cell_type": "markdown",
      "source": [
        "Mostrar columnnas seleccionadas"
      ],
      "metadata": {
        "id": "3wlCqFi2OsiB"
      }
    },
    {
      "cell_type": "code",
      "source": [
        "df.columns"
      ],
      "metadata": {
        "colab": {
          "base_uri": "https://localhost:8080/"
        },
        "id": "enw7-8VPQD3L",
        "outputId": "44e46ac4-796b-4d96-99ac-aff53ae2657d"
      },
      "execution_count": 25,
      "outputs": [
        {
          "output_type": "execute_result",
          "data": {
            "text/plain": [
              "['CRASH DATE',\n",
              " 'CRASH TIME',\n",
              " 'BOROUGH',\n",
              " 'ZIP CODE',\n",
              " 'LATITUDE',\n",
              " 'LONGITUDE',\n",
              " 'LOCATION',\n",
              " 'ON STREET NAME',\n",
              " 'CROSS STREET NAME',\n",
              " 'OFF STREET NAME',\n",
              " 'NUMBER OF PERSONS INJURED',\n",
              " 'NUMBER OF PERSONS KILLED',\n",
              " 'NUMBER OF PEDESTRIANS INJURED',\n",
              " 'NUMBER OF PEDESTRIANS KILLED',\n",
              " 'NUMBER OF CYCLIST INJURED',\n",
              " 'NUMBER OF CYCLIST KILLED',\n",
              " 'NUMBER OF MOTORIST INJURED',\n",
              " 'NUMBER OF MOTORIST KILLED',\n",
              " 'CONTRIBUTING FACTOR VEHICLE 1',\n",
              " 'CONTRIBUTING FACTOR VEHICLE 2',\n",
              " 'CONTRIBUTING FACTOR VEHICLE 3',\n",
              " 'CONTRIBUTING FACTOR VEHICLE 4',\n",
              " 'CONTRIBUTING FACTOR VEHICLE 5',\n",
              " 'COLLISION_ID',\n",
              " 'VEHICLE TYPE CODE 1',\n",
              " 'VEHICLE TYPE CODE 2',\n",
              " 'VEHICLE TYPE CODE 3',\n",
              " 'VEHICLE TYPE CODE 4',\n",
              " 'VEHICLE TYPE CODE 5']"
            ]
          },
          "metadata": {},
          "execution_count": 25
        }
      ]
    },
    {
      "cell_type": "markdown",
      "source": [
        "## Seleccionar columnas"
      ],
      "metadata": {
        "id": "DbWWZTrmYeRc"
      }
    },
    {
      "cell_type": "code",
      "source": [
        "# Column name is case insensitive here\n",
        "print(df.BOROUGH)\n",
        "print(\"*\"*20)\n",
        "#This line show the data column\n",
        "df.select(df.BOROUGH).show(truncate=False)"
      ],
      "metadata": {
        "colab": {
          "base_uri": "https://localhost:8080/"
        },
        "id": "kMdpO7a0UIJe",
        "outputId": "396099ab-1d70-4538-8fbc-5ba598d1986a"
      },
      "execution_count": 31,
      "outputs": [
        {
          "output_type": "stream",
          "name": "stdout",
          "text": [
            "Column<'BOROUGH'>\n",
            "********************\n",
            "+---------+\n",
            "|BOROUGH  |\n",
            "+---------+\n",
            "|null     |\n",
            "|null     |\n",
            "|null     |\n",
            "|BROOKLYN |\n",
            "|BROOKLYN |\n",
            "|null     |\n",
            "|null     |\n",
            "|BRONX    |\n",
            "|BROOKLYN |\n",
            "|MANHATTAN|\n",
            "|null     |\n",
            "|QUEENS   |\n",
            "|null     |\n",
            "|null     |\n",
            "|QUEENS   |\n",
            "|BROOKLYN |\n",
            "|BROOKLYN |\n",
            "|null     |\n",
            "|BRONX    |\n",
            "|null     |\n",
            "+---------+\n",
            "only showing top 20 rows\n",
            "\n"
          ]
        }
      ]
    },
    {
      "cell_type": "code",
      "source": [
        "# Column name is case insensitive in this usage\n",
        "print(df['CRASH DATE'],df['BOROUGH'],df['NUMBER OF PERSONS INJURED'],df['VEHICLE TYPE CODE 1'])\n",
        "print(\"*\"*20)\n",
        "df.select(df['CRASH DATE'],df['BOROUGH'],df['NUMBER OF PERSONS INJURED'],df['VEHICLE TYPE CODE 1']).show(truncate=False)"
      ],
      "metadata": {
        "colab": {
          "base_uri": "https://localhost:8080/"
        },
        "id": "gn4fPOGNR0VX",
        "outputId": "9066813e-ac08-4f5d-a781-905c817ab23e"
      },
      "execution_count": 27,
      "outputs": [
        {
          "output_type": "stream",
          "name": "stdout",
          "text": [
            "Column<'CRASH DATE'> Column<'BOROUGH'> Column<'NUMBER OF PERSONS INJURED'> Column<'VEHICLE TYPE CODE 1'>\n",
            "********************\n",
            "+----------+---------+-------------------------+-----------------------------------+\n",
            "|CRASH DATE|BOROUGH  |NUMBER OF PERSONS INJURED|VEHICLE TYPE CODE 1                |\n",
            "+----------+---------+-------------------------+-----------------------------------+\n",
            "|09/11/2021|null     |2                        |Sedan                              |\n",
            "|03/26/2022|null     |1                        |Sedan                              |\n",
            "|06/29/2022|null     |0                        |Sedan                              |\n",
            "|09/11/2021|BROOKLYN |0                        |Sedan                              |\n",
            "|12/14/2021|BROOKLYN |0                        |null                               |\n",
            "|04/14/2021|null     |0                        |Dump                               |\n",
            "|12/14/2021|null     |0                        |Sedan                              |\n",
            "|12/14/2021|BRONX    |2                        |Sedan                              |\n",
            "|12/14/2021|BROOKLYN |0                        |Sedan                              |\n",
            "|12/14/2021|MANHATTAN|0                        |Sedan                              |\n",
            "|12/13/2021|null     |0                        |Station Wagon/Sport Utility Vehicle|\n",
            "|12/14/2021|QUEENS   |0                        |Sedan                              |\n",
            "|12/14/2021|null     |0                        |Station Wagon/Sport Utility Vehicle|\n",
            "|12/14/2021|null     |0                        |Sedan                              |\n",
            "|12/14/2021|QUEENS   |2                        |Sedan                              |\n",
            "|12/14/2021|BROOKLYN |0                        |Tanker                             |\n",
            "|12/14/2021|BROOKLYN |4                        |Sedan                              |\n",
            "|12/14/2021|null     |3                        |Station Wagon/Sport Utility Vehicle|\n",
            "|12/11/2021|BRONX    |1                        |Station Wagon/Sport Utility Vehicle|\n",
            "|12/14/2021|null     |0                        |Station Wagon/Sport Utility Vehicle|\n",
            "+----------+---------+-------------------------+-----------------------------------+\n",
            "only showing top 20 rows\n",
            "\n"
          ]
        }
      ]
    },
    {
      "cell_type": "markdown",
      "source": [
        "## Filtrado por filas"
      ],
      "metadata": {
        "id": "R83fJ1MkfCoY"
      }
    },
    {
      "cell_type": "code",
      "source": [
        "# Filtering rows in PySpark\n",
        "total_count = df.count()\n",
        "print(\"TOTAL RECORD COUNT: \" + str(total_count)) \n",
        "BRONX_filtered_count = df.filter(col('BOROUGH')=='BRONX').count()\n",
        "print(\"BRONX FILTERED RECORD COUNT: \" + str(BRONX_filtered_count))\n",
        "df.select(df['CRASH DATE'],df['BOROUGH'],df['NUMBER OF PERSONS INJURED'],df['VEHICLE TYPE CODE 1']).filter(col('BOROUGH')=='BRONX').show(truncate=False)\n",
        "#df.select(df['CRASH DATE'],df['BOROUGH'],df['NUMBER OF PERSONS INJURED'],df['VEHICLE TYPE CODE 1']).show(truncate=False)"
      ],
      "metadata": {
        "colab": {
          "base_uri": "https://localhost:8080/"
        },
        "id": "77U1czkufFZU",
        "outputId": "b835bb2b-a9d0-4a1a-e183-3d557ca56b3d"
      },
      "execution_count": 42,
      "outputs": [
        {
          "output_type": "stream",
          "name": "stdout",
          "text": [
            "TOTAL RECORD COUNT: 1987322\n",
            "BRONX FILTERED RECORD COUNT: 201885\n",
            "+----------+-------+-------------------------+-----------------------------------+\n",
            "|CRASH DATE|BOROUGH|NUMBER OF PERSONS INJURED|VEHICLE TYPE CODE 1                |\n",
            "+----------+-------+-------------------------+-----------------------------------+\n",
            "|12/14/2021|BRONX  |2                        |Sedan                              |\n",
            "|12/11/2021|BRONX  |1                        |Station Wagon/Sport Utility Vehicle|\n",
            "|12/14/2021|BRONX  |0                        |Taxi                               |\n",
            "|04/24/2022|BRONX  |0                        |Taxi                               |\n",
            "|04/24/2022|BRONX  |0                        |Sedan                              |\n",
            "|04/24/2022|BRONX  |0                        |Sedan                              |\n",
            "|12/10/2021|BRONX  |0                        |Station Wagon/Sport Utility Vehicle|\n",
            "|03/26/2022|BRONX  |2                        |Station Wagon/Sport Utility Vehicle|\n",
            "|03/26/2022|BRONX  |0                        |Station Wagon/Sport Utility Vehicle|\n",
            "|03/26/2022|BRONX  |2                        |Station Wagon/Sport Utility Vehicle|\n",
            "|03/24/2022|BRONX  |1                        |Sedan                              |\n",
            "|03/26/2022|BRONX  |1                        |Sedan                              |\n",
            "|03/26/2022|BRONX  |1                        |Station Wagon/Sport Utility Vehicle|\n",
            "|03/26/2022|BRONX  |0                        |Sedan                              |\n",
            "|03/25/2022|BRONX  |0                        |Station Wagon/Sport Utility Vehicle|\n",
            "|03/25/2022|BRONX  |0                        |Station Wagon/Sport Utility Vehicle|\n",
            "|03/26/2022|BRONX  |0                        |Station Wagon/Sport Utility Vehicle|\n",
            "|03/25/2022|BRONX  |1                        |Sedan                              |\n",
            "|03/22/2022|BRONX  |1                        |Sedan                              |\n",
            "|03/26/2022|BRONX  |1                        |Box Truck                          |\n",
            "+----------+-------+-------------------------+-----------------------------------+\n",
            "only showing top 20 rows\n",
            "\n"
          ]
        }
      ]
    },
    {
      "cell_type": "markdown",
      "source": [
        "### Filtrar con más condiciones"
      ],
      "metadata": {
        "id": "F8wXuJpRjjUf"
      }
    },
    {
      "cell_type": "code",
      "source": [
        "# Filtering rows in PySpark based on Multiple conditions\n",
        "total_count = df.count()\n",
        "print(\"TOTAL RECORD COUNT: \" + str(total_count))\n",
        "BRONX_filtered_count = df.filter((col('BOROUGH')=='BRONX') & \n",
        "                                 (col('NUMBER OF PERSONS INJURED')>0)).count() # Two conditions added here\n",
        "\n",
        "print(\"BRONX FILTERED RECORD COUNT: \" + str(BRONX_filtered_count))\n",
        "df.select(df['CRASH DATE'],df['BOROUGH'],df['NUMBER OF PERSONS INJURED'],df['VEHICLE TYPE CODE 1']\n",
        "          ).filter((col('BOROUGH')=='BRONX') & (col('NUMBER OF PERSONS INJURED')>0)).show(truncate=False)"
      ],
      "metadata": {
        "colab": {
          "base_uri": "https://localhost:8080/"
        },
        "id": "DD_oyzYEjobr",
        "outputId": "01dfe159-b572-4ccb-dfb7-cd169e28a91b"
      },
      "execution_count": 45,
      "outputs": [
        {
          "output_type": "stream",
          "name": "stdout",
          "text": [
            "TOTAL RECORD COUNT: 1987322\n",
            "BRONX FILTERED RECORD COUNT: 46639\n",
            "+----------+-------+-------------------------+-----------------------------------+\n",
            "|CRASH DATE|BOROUGH|NUMBER OF PERSONS INJURED|VEHICLE TYPE CODE 1                |\n",
            "+----------+-------+-------------------------+-----------------------------------+\n",
            "|12/14/2021|BRONX  |2                        |Sedan                              |\n",
            "|12/11/2021|BRONX  |1                        |Station Wagon/Sport Utility Vehicle|\n",
            "|03/26/2022|BRONX  |2                        |Station Wagon/Sport Utility Vehicle|\n",
            "|03/26/2022|BRONX  |2                        |Station Wagon/Sport Utility Vehicle|\n",
            "|03/24/2022|BRONX  |1                        |Sedan                              |\n",
            "|03/26/2022|BRONX  |1                        |Sedan                              |\n",
            "|03/26/2022|BRONX  |1                        |Station Wagon/Sport Utility Vehicle|\n",
            "|03/25/2022|BRONX  |1                        |Sedan                              |\n",
            "|03/22/2022|BRONX  |1                        |Sedan                              |\n",
            "|03/26/2022|BRONX  |1                        |Box Truck                          |\n",
            "|12/10/2021|BRONX  |1                        |Station Wagon/Sport Utility Vehicle|\n",
            "|09/11/2021|BRONX  |1                        |Station Wagon/Sport Utility Vehicle|\n",
            "|07/08/2021|BRONX  |1                        |Sedan                              |\n",
            "|07/07/2021|BRONX  |1                        |Station Wagon/Sport Utility Vehicle|\n",
            "|09/11/2021|BRONX  |2                        |Station Wagon/Sport Utility Vehicle|\n",
            "|09/10/2021|BRONX  |1                        |Station Wagon/Sport Utility Vehicle|\n",
            "|09/11/2021|BRONX  |1                        |Sedan                              |\n",
            "|07/09/2021|BRONX  |1                        |E-Bike                             |\n",
            "|04/16/2021|BRONX  |2                        |Station Wagon/Sport Utility Vehicle|\n",
            "|04/15/2021|BRONX  |1                        |null                               |\n",
            "+----------+-------+-------------------------+-----------------------------------+\n",
            "only showing top 20 rows\n",
            "\n"
          ]
        }
      ]
    },
    {
      "cell_type": "markdown",
      "source": [
        "## RDD"
      ],
      "metadata": {
        "id": "1Z8nT4QKox96"
      }
    },
    {
      "cell_type": "markdown",
      "source": [
        "Primero le realizamos una transformnación a los datos"
      ],
      "metadata": {
        "id": "lZ3reoNGwaO0"
      }
    },
    {
      "cell_type": "code",
      "source": [
        "crash = spark.sparkContext.textFile('crashes.csv')\n",
        "print(crash.first())\n",
        "crash_header = crash.first()\n",
        "crash_rest = crash.filter(lambda line: line!=crash_header)\n",
        "print(crash_rest.first())"
      ],
      "metadata": {
        "colab": {
          "base_uri": "https://localhost:8080/"
        },
        "id": "HSunlZP2o0a5",
        "outputId": "3fdf4492-1b53-4890-bbea-60265e5f1eff"
      },
      "execution_count": 46,
      "outputs": [
        {
          "output_type": "stream",
          "name": "stdout",
          "text": [
            "CRASH DATE,CRASH TIME,BOROUGH,ZIP CODE,LATITUDE,LONGITUDE,LOCATION,ON STREET NAME,CROSS STREET NAME,OFF STREET NAME,NUMBER OF PERSONS INJURED,NUMBER OF PERSONS KILLED,NUMBER OF PEDESTRIANS INJURED,NUMBER OF PEDESTRIANS KILLED,NUMBER OF CYCLIST INJURED,NUMBER OF CYCLIST KILLED,NUMBER OF MOTORIST INJURED,NUMBER OF MOTORIST KILLED,CONTRIBUTING FACTOR VEHICLE 1,CONTRIBUTING FACTOR VEHICLE 2,CONTRIBUTING FACTOR VEHICLE 3,CONTRIBUTING FACTOR VEHICLE 4,CONTRIBUTING FACTOR VEHICLE 5,COLLISION_ID,VEHICLE TYPE CODE 1,VEHICLE TYPE CODE 2,VEHICLE TYPE CODE 3,VEHICLE TYPE CODE 4,VEHICLE TYPE CODE 5\n",
            "09/11/2021,2:39,,,,,,WHITESTONE EXPRESSWAY,20 AVENUE,,2,0,0,0,0,0,2,0,Aggressive Driving/Road Rage,Unspecified,,,,4455765,Sedan,Sedan,,,\n"
          ]
        }
      ]
    },
    {
      "cell_type": "markdown",
      "source": [
        "Aplicamos la función Map"
      ],
      "metadata": {
        "id": "24L5WXiOwvIm"
      }
    },
    {
      "cell_type": "code",
      "source": [
        "#Count how many crashes are there in our csv\n",
        "crash_rest.map(lambda line: line.split(\",\")).count()"
      ],
      "metadata": {
        "colab": {
          "base_uri": "https://localhost:8080/"
        },
        "id": "-_OmOjbVwxXp",
        "outputId": "86ce63f4-b583-4adb-d47a-4af6316f833c"
      },
      "execution_count": 47,
      "outputs": [
        {
          "output_type": "execute_result",
          "data": {
            "text/plain": [
              "1987322"
            ]
          },
          "metadata": {},
          "execution_count": 47
        }
      ]
    },
    {
      "cell_type": "markdown",
      "source": [
        "## Conteo de palabras\n",
        "\n",
        "\n",
        "\n"
      ],
      "metadata": {
        "id": "AIddNMYlDPxP"
      }
    },
    {
      "cell_type": "code",
      "source": [
        "words = sc.textFile(\"words.txt\").flatMap(lambda line: line.split(\" \"))\n",
        "a = words.map(lambda word: (word,1))\n",
        "b = a.reduceByKey(lambda a,b: a+b)\n",
        "b.collect()"
      ],
      "metadata": {
        "colab": {
          "base_uri": "https://localhost:8080/"
        },
        "id": "1cGcaEwvDR1R",
        "outputId": "c8115650-addc-46e2-e0c0-b62be8a859a9"
      },
      "execution_count": 8,
      "outputs": [
        {
          "output_type": "execute_result",
          "data": {
            "text/plain": [
              "[('este', 1),\n",
              " ('ejemplo', 1),\n",
              " ('conteo', 1),\n",
              " ('con', 1),\n",
              " ('PySpark', 1),\n",
              " ('Google', 1),\n",
              " ('Colab', 1),\n",
              " ('Hola', 1),\n",
              " ('es', 1),\n",
              " ('un', 2),\n",
              " ('sencillo', 1),\n",
              " ('de', 2),\n",
              " ('palabras', 1),\n",
              " ('ejecutandose', 1),\n",
              " ('desde', 1)]"
            ]
          },
          "metadata": {},
          "execution_count": 8
        }
      ]
    },
    {
      "cell_type": "markdown",
      "source": [
        "## Creación de Dataframes con PySpark\n"
      ],
      "metadata": {
        "id": "jOJ-I3SMxqRp"
      }
    },
    {
      "cell_type": "markdown",
      "source": [
        "Dataframe vacío"
      ],
      "metadata": {
        "id": "-uJVbtsqy9kN"
      }
    },
    {
      "cell_type": "code",
      "source": [
        "from pyspark.sql.types import StructType\n",
        "sc = spark.sparkContext\n",
        "#Create empty df\n",
        "schema = StructType([])\n",
        "empty = spark.createDataFrame(sc.emptyRDD(), schema)\n",
        "empty.show()"
      ],
      "metadata": {
        "colab": {
          "base_uri": "https://localhost:8080/"
        },
        "id": "eGdG6O8mxx0h",
        "outputId": "b1f6acf0-2ae3-45aa-d3d4-ea38de8deaa9"
      },
      "execution_count": 7,
      "outputs": [
        {
          "output_type": "stream",
          "name": "stdout",
          "text": [
            "++\n",
            "||\n",
            "++\n",
            "++\n",
            "\n"
          ]
        }
      ]
    },
    {
      "cell_type": "markdown",
      "source": [
        "Dataframe con header"
      ],
      "metadata": {
        "id": "Ek6wVTn6y3QR"
      }
    },
    {
      "cell_type": "code",
      "source": [
        "from pyspark.sql.types import StructType, StructField\n",
        "from pyspark.sql.types import *\n",
        "#Create empty df with header\n",
        "schema_header = StructType([StructField(\"name\", StringType(), True)])\n",
        "empty_with_header = spark.createDataFrame(sc.emptyRDD(), schema_header)\n",
        "empty_with_header.show()"
      ],
      "metadata": {
        "colab": {
          "base_uri": "https://localhost:8080/"
        },
        "id": "fSKZBzviy2-o",
        "outputId": "b657e4a1-151c-432a-b21e-9e68097b8482"
      },
      "execution_count": 13,
      "outputs": [
        {
          "output_type": "stream",
          "name": "stdout",
          "text": [
            "+----+\n",
            "|name|\n",
            "+----+\n",
            "+----+\n",
            "\n"
          ]
        }
      ]
    },
    {
      "cell_type": "markdown",
      "source": [
        "Dataframe con header y datos"
      ],
      "metadata": {
        "id": "PTvqH9XKzEvb"
      }
    },
    {
      "cell_type": "code",
      "source": [
        "from pyspark.sql import Row\n",
        "mylist = [\n",
        "  {\"name\":'Alice',\"age\":13},\n",
        "  {\"name\":'Jacob',\"age\":24},\n",
        "  {\"name\":'Betty',\"age\":135},\n",
        "]\n",
        "spark.createDataFrame(Row(**x) for x in mylist).show()"
      ],
      "metadata": {
        "colab": {
          "base_uri": "https://localhost:8080/"
        },
        "id": "6CgehEbkzMjW",
        "outputId": "1977b396-9543-4229-cb11-fb7235ffd698"
      },
      "execution_count": 49,
      "outputs": [
        {
          "output_type": "stream",
          "name": "stdout",
          "text": [
            "+-----+---+\n",
            "| name|age|\n",
            "+-----+---+\n",
            "|Alice| 13|\n",
            "|Jacob| 24|\n",
            "|Betty|135|\n",
            "+-----+---+\n",
            "\n"
          ]
        }
      ]
    },
    {
      "cell_type": "code",
      "source": [
        "# You can achieve the same using this - note that we are using spark context here, not a spark session\n",
        "from pyspark.sql import Row\n",
        "df = sc.parallelize([\n",
        "        Row(name='Alice', age=13),\n",
        "        Row(name='Jacob', age=24),\n",
        "        Row(name='Betty', age=135)]).toDF()\n",
        "df.show()"
      ],
      "metadata": {
        "colab": {
          "base_uri": "https://localhost:8080/"
        },
        "id": "UZ4LBwfBzXpn",
        "outputId": "d996f9c7-5963-43bd-c9d3-298a5b9f61f0"
      },
      "execution_count": 51,
      "outputs": [
        {
          "output_type": "stream",
          "name": "stdout",
          "text": [
            "+-----+---+\n",
            "| name|age|\n",
            "+-----+---+\n",
            "|Alice| 13|\n",
            "|Jacob| 24|\n",
            "|Betty|135|\n",
            "+-----+---+\n",
            "\n"
          ]
        }
      ]
    },
    {
      "cell_type": "markdown",
      "source": [
        "## Eliminar duplicados"
      ],
      "metadata": {
        "id": "6j-G76L5zleE"
      }
    },
    {
      "cell_type": "code",
      "source": [
        "from pyspark.sql import Row\n",
        "from pyspark.sql import Row\n",
        "mylist = [\n",
        "  {\"name\":'Alice',\"age\":5,\"height\":80},\n",
        "  {\"name\":'Jacob',\"age\":24,\"height\":80},\n",
        "  {\"name\":'Alice',\"age\":5,\"height\":80}\n",
        "]\n",
        "df.show()\n",
        "df = spark.createDataFrame(Row(**x) for x in mylist)\n",
        "df.dropDuplicates().show()"
      ],
      "metadata": {
        "colab": {
          "base_uri": "https://localhost:8080/"
        },
        "id": "7YyZ4pDszoNF",
        "outputId": "14c18992-6925-4a1e-c5da-97edb5c3e044"
      },
      "execution_count": 53,
      "outputs": [
        {
          "output_type": "stream",
          "name": "stdout",
          "text": [
            "+-----+---+------+\n",
            "| name|age|height|\n",
            "+-----+---+------+\n",
            "|Alice|  5|    80|\n",
            "|Jacob| 24|    80|\n",
            "|Alice|  5|    80|\n",
            "+-----+---+------+\n",
            "\n",
            "+-----+---+------+\n",
            "| name|age|height|\n",
            "+-----+---+------+\n",
            "|Alice|  5|    80|\n",
            "|Jacob| 24|    80|\n",
            "+-----+---+------+\n",
            "\n"
          ]
        }
      ]
    },
    {
      "cell_type": "markdown",
      "source": [
        "# Regresion lineal con PySpark"
      ],
      "metadata": {
        "id": "pukgiMwboJkt"
      }
    },
    {
      "cell_type": "code",
      "source": [
        "# Data processing\n",
        "import pandas as pd\n",
        "# Create synthetic dataset\n",
        "from sklearn.datasets import make_regression\n",
        "# Modeling\n",
        "from pyspark.ml.feature import VectorAssembler\n",
        "from pyspark.ml.regression import LinearRegression\n",
        "from pyspark.ml.evaluation import RegressionEvaluator\n",
        "from pyspark.ml import Pipeline, PipelineModel"
      ],
      "metadata": {
        "id": "N3pMzCMpoNmf"
      },
      "execution_count": 14,
      "outputs": []
    },
    {
      "cell_type": "code",
      "source": [
        "# Create a synthetic dataset\n",
        "X, y = make_regression(n_samples=1000000, n_features=2, noise=0.3, bias=2, random_state=42)\n",
        "# Convert the data from numpy array to a pandas dataframe\n",
        "pdf = pd.DataFrame({'feature1': X[:, 0], 'feature2': X[:, 1], 'dependent_variable': y})\n",
        "# Convert pandas dataframe to spark dataframe\n",
        "sdf = spark.createDataFrame(pdf)\n",
        "# Check data summary statistics\n",
        "display(sdf.summary())\n",
        "sdf.show()"
      ],
      "metadata": {
        "colab": {
          "base_uri": "https://localhost:8080/",
          "height": 486
        },
        "id": "dITRYG9AoS8R",
        "outputId": "aa8170d9-8d01-46f5-9b87-ffb08d57193e"
      },
      "execution_count": 18,
      "outputs": [
        {
          "output_type": "display_data",
          "data": {
            "text/plain": [
              "DataFrame[summary: string, feature1: string, feature2: string, dependent_variable: string]"
            ]
          },
          "metadata": {}
        },
        {
          "output_type": "stream",
          "name": "stdout",
          "text": [
            "+--------------------+--------------------+-------------------+\n",
            "|            feature1|            feature2| dependent_variable|\n",
            "+--------------------+--------------------+-------------------+\n",
            "| 0.31349827976296524| -0.4411957507627029| 12.470413498408014|\n",
            "|   0.781497239460632|    2.45987198502938| 152.77210148340862|\n",
            "|  0.7601274267540831| -0.5510610924387531| 45.344113211965855|\n",
            "|-0.21221839413561966|  0.5275359481598829| 2.3339738754842703|\n",
            "|-0.03457131269667...| 0.23902564393378373|  7.626500160552004|\n",
            "|  2.1906317841952183|  0.8716992544130852|   212.828525191623|\n",
            "|  0.5492397308056503|  0.5147068040703997|  65.23811258993135|\n",
            "|  0.3512513653430116|  0.3394055604654232|  42.87462452959514|\n",
            "| -0.8309028531003436| -1.7560542740067022|-127.62414790233171|\n",
            "| -1.6378610962962872| -1.0264768000809217|-168.46527044129087|\n",
            "| -0.6000312183862408| 0.47952597212710035| -30.55561037299339|\n",
            "|   1.308958709749387| -3.1798843260532266|-1.7188245428445759|\n",
            "|  0.3803516062985337| -0.1939623064496469|  26.46302682223248|\n",
            "|  0.9764538875573391|  -0.613409006437699| 60.527405305163605|\n",
            "|-0.00742376244515...| 0.43586333345955725| 16.807880748631074|\n",
            "|  -1.112142455649601|  0.2157765510741247| -81.91208545063307|\n",
            "|  0.7313590979439423|  0.2165189229120299|  70.07885079654123|\n",
            "| -0.5858034459225464|  1.3428303784382716| 0.5533918116069881|\n",
            "| -0.6401765674314682|    -1.4581426178296|-101.47287650518808|\n",
            "|  0.9998804926006428|-0.11695174931920921|   80.2843506869104|\n",
            "+--------------------+--------------------+-------------------+\n",
            "only showing top 20 rows\n",
            "\n"
          ]
        }
      ]
    },
    {
      "cell_type": "code",
      "source": [
        "# Train test split\n",
        "trainDF, testDF = sdf.randomSplit([.8, .2], seed=42)\n",
        "# Print the number of records\n",
        "print(f'There are {trainDF.cache().count()} records in the training dataset.')\n",
        "print(f'There are {testDF.cache().count()} records in the testing dataset.')"
      ],
      "metadata": {
        "colab": {
          "base_uri": "https://localhost:8080/"
        },
        "id": "-ZPY1bnoo0Gk",
        "outputId": "9e8329f1-86b9-4cd2-f65d-2988feb3a10e"
      },
      "execution_count": 19,
      "outputs": [
        {
          "output_type": "stream",
          "name": "stdout",
          "text": [
            "There are 799847 records in the training dataset.\n",
            "There are 200153 records in the testing dataset.\n"
          ]
        }
      ]
    },
    {
      "cell_type": "code",
      "source": [
        "# Linear regression expect a vector input\n",
        "vecAssembler = VectorAssembler(inputCols=['feature1', 'feature2'], outputCol=\"features\")\n",
        "vecTrainDF = vecAssembler.transform(trainDF)\n",
        "# Take a look at the data\n",
        "display(vecTrainDF)"
      ],
      "metadata": {
        "colab": {
          "base_uri": "https://localhost:8080/",
          "height": 34
        },
        "id": "d0xf8RZupngY",
        "outputId": "284256d9-a1e6-470f-d434-e2b4133e3157"
      },
      "execution_count": 20,
      "outputs": [
        {
          "output_type": "display_data",
          "data": {
            "text/plain": [
              "DataFrame[feature1: double, feature2: double, dependent_variable: double, features: vector]"
            ]
          },
          "metadata": {}
        }
      ]
    },
    {
      "cell_type": "code",
      "source": [
        "# Create linear regression\n",
        "lr = LinearRegression(featuresCol=\"features\", labelCol=\"dependent_variable\")\n",
        "# Fit the linear regresssion model\n",
        "lrModel = lr.fit(vecTrainDF)\n",
        "# Print model intercept and coefficients\n",
        "print(f'The intercept of the model is {lrModel.intercept:.2f} and the coefficients of the model are {lrModel.coefficients[0]:.2f} and {lrModel.coefficients[1]:.2f}')"
      ],
      "metadata": {
        "colab": {
          "base_uri": "https://localhost:8080/"
        },
        "id": "GvH3xgL7pxXJ",
        "outputId": "25d8e8bd-a8a2-4e26-f508-d9496c08e04d"
      },
      "execution_count": 21,
      "outputs": [
        {
          "output_type": "stream",
          "name": "stdout",
          "text": [
            "The intercept of the model is 2.00 and the coefficients of the model are 82.09 and 35.03\n"
          ]
        }
      ]
    },
    {
      "cell_type": "code",
      "source": [
        "# Create pipeline\n",
        "stages = [vecAssembler, lr]\n",
        "pipeline = Pipeline(stages=stages)\n",
        "# Fit the pipeline model\n",
        "pipelineModel = pipeline.fit(trainDF)"
      ],
      "metadata": {
        "id": "9Ojv2GOZrPoi"
      },
      "execution_count": 24,
      "outputs": []
    },
    {
      "cell_type": "code",
      "source": [
        "# Make predictions on testing dataset\n",
        "predDF = pipelineModel.transform(testDF)\n",
        "# Take a look at the output\n",
        "display(predDF.select(\"features\", \"dependent_variable\", \"prediction\"))\n",
        "predDF.show()"
      ],
      "metadata": {
        "colab": {
          "base_uri": "https://localhost:8080/",
          "height": 486
        },
        "id": "sUVYNbPdp6yV",
        "outputId": "8ef80413-00bc-4c1b-9f56-39d9b84513fb"
      },
      "execution_count": 27,
      "outputs": [
        {
          "output_type": "display_data",
          "data": {
            "text/plain": [
              "DataFrame[features: vector, dependent_variable: double, prediction: double]"
            ]
          },
          "metadata": {}
        },
        {
          "output_type": "stream",
          "name": "stdout",
          "text": [
            "+-------------------+-------------------+-------------------+--------------------+-------------------+\n",
            "|           feature1|           feature2| dependent_variable|            features|         prediction|\n",
            "+-------------------+-------------------+-------------------+--------------------+-------------------+\n",
            "| -4.435060898724634| 0.7481186722693874| -336.0190978167691|[-4.4350608987246...| -335.8588418485125|\n",
            "| -4.164294602643378| -1.267004372717662|-384.60376689707607|[-4.1642946026433...|-384.22280039338983|\n",
            "| -4.069621097018043|-1.8157531141967662|  -395.349694083717|[-4.0696210970180...|-395.67414212284734|\n",
            "|-3.9702095177991246| 0.5972499082314706| -303.3352086015304|[-3.9702095177991...|  -302.985061955403|\n",
            "|-3.8761221469182705|0.08452030705048824| -313.0729547580186|[-3.8761221469182...| -313.2227518754369|\n",
            "| -3.827165377856318|  2.382839964691455|-228.45123989242504|[-3.8271653778563...|-228.69282194554083|\n",
            "| -3.801885955729643|-2.4504395216039385| -396.3047194004824|[-3.8018859557296...|-395.92961276680876|\n",
            "|-3.7519232892047705|  1.014927715371012| -270.5955448087131|[-3.7519232892047...| -270.4349145430952|\n",
            "|-3.7175878210502082|-0.7353760646712015| -328.7109369256128|[-3.7175878210502...|-328.93030054549524|\n",
            "|-3.7147691751412943|-0.0262469577051269| -303.4606744767466|[-3.7147691751412...|  -303.857814990585|\n",
            "| -3.712769321358994|-0.6060087722967049| -323.8154130568457|[-3.7127693213589...| -324.0029651024166|\n",
            "|-3.7086532458197814|0.25114543930341027|-293.45642693958035|[-3.7086532458197...|-293.63859068923415|\n",
            "|-3.6992882193506382|0.04672448369755437| -299.9831472196294|[-3.6992882193506...| -300.0307902387027|\n",
            "|-3.6770433667294666|-0.5767285683993942|-320.26206192456345|[-3.6770433667294...| -320.0445897796862|\n",
            "| -3.647885436587112|-0.8638384079529803| -326.9351610492999|[-3.6478854365871...| -327.7086553135856|\n",
            "|-3.6144658866221846|-0.6552576364338668|-317.69980249712273|[-3.6144658866221...|-317.65862975844396|\n",
            "| -3.586764922735262| 0.1157207420423196| -288.1959312616666|[-3.5867649227352...| -288.3769937862866|\n",
            "|-3.5279813270536002|-0.8595543094985636|-317.63240637592855|[-3.5279813270536...| -317.7158775014048|\n",
            "|-3.4956003508988234|-0.8063532115596506|-313.49772453991983|[-3.4956003508988...|  -313.194125637791|\n",
            "| -3.488813052210172| 0.9256931838538845|-251.96892726706082|[-3.4888130522101...|-251.96261297965515|\n",
            "+-------------------+-------------------+-------------------+--------------------+-------------------+\n",
            "only showing top 20 rows\n",
            "\n"
          ]
        }
      ]
    },
    {
      "cell_type": "code",
      "source": [
        "# Create regression evaluator\n",
        "regressionEvaluator = RegressionEvaluator(predictionCol=\"prediction\", labelCol=\"dependent_variable\", metricName=\"rmse\")\n",
        "# RMSE\n",
        "rmse = regressionEvaluator.evaluate(predDF)\n",
        "print(f\"The RMSE for the linear regression model is {rmse:0.2f}\")\n",
        "# MSE\n",
        "mse = regressionEvaluator.setMetricName(\"mse\").evaluate(predDF)\n",
        "print(f\"The MSE for the linear regression model is {mse:0.2f}\")\n",
        "# R2\n",
        "r2 = regressionEvaluator.setMetricName(\"r2\").evaluate(predDF)\n",
        "print(f\"The R2 for the linear regression model is {r2:0.2f}\")\n",
        "# MAE\n",
        "mae = regressionEvaluator.setMetricName(\"mae\").evaluate(predDF)\n",
        "print(f\"The MAE for the linear regression model is {mae:0.2f}\")"
      ],
      "metadata": {
        "colab": {
          "base_uri": "https://localhost:8080/"
        },
        "id": "y-yR8xgRry2M",
        "outputId": "c6fe32a4-731f-4e7e-8fff-b59a73b5ddfc"
      },
      "execution_count": 28,
      "outputs": [
        {
          "output_type": "stream",
          "name": "stdout",
          "text": [
            "The RMSE for the linear regression model is 0.30\n",
            "The MSE for the linear regression model is 0.09\n",
            "The R2 for the linear regression model is 1.00\n",
            "The MAE for the linear regression model is 0.24\n"
          ]
        }
      ]
    },
    {
      "cell_type": "code",
      "source": [],
      "metadata": {
        "id": "AUnGXAo1rT_b"
      },
      "execution_count": null,
      "outputs": []
    }
  ]
}